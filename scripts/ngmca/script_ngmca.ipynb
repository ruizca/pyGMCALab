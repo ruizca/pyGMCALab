{
 "cells": [
  {
   "cell_type": "markdown",
   "metadata": {},
   "source": [
    "# Sparse NMF with nGMCA"
   ]
  },
  {
   "cell_type": "code",
   "execution_count": null,
   "metadata": {},
   "outputs": [],
   "source": [
    "# Useful packages\n",
    "import matplotlib.pyplot as plt\n",
    "import numpy as np\n",
    "from pyGMCA.bss.ngmca import base as bss\n",
    "\n",
    "%matplotlib inline\n",
    "font = {\n",
    "    'weight': 'bold',\n",
    "    'size': 12,\n",
    "}\n",
    "plt.rcParams[\"figure.figsize\"] = (20,10)\n",
    "plt.rc('font', **font)"
   ]
  },
  {
   "cell_type": "markdown",
   "metadata": {},
   "source": [
    "### create sparse data or synthetic nmr data"
   ]
  },
  {
   "cell_type": "code",
   "execution_count": null,
   "metadata": {},
   "outputs": [],
   "source": [
    "nmr = False\n",
    "data_settings = {}\n",
    "np.random.seed(33) #32\n",
    "if nmr:\n",
    "    data_settings['rows'] = 24\n",
    "    data_settings['rank'] = 12\n",
    "    data_settings['dB'] = 40\n",
    "    reference = bss.tools.create_realistic_nmr_mixtures(data_settings)\n",
    "else:\n",
    "    data_settings['rows'] = 100\n",
    "    data_settings['rank'] = 10\n",
    "    data_settings['columns'] = 200\n",
    "    data_settings['dB'] = 10\n",
    "    data_settings['bernoulli_S'] = 0.08\n",
    "    data_settings['alpha_S'] = 1\n",
    "    data_settings['verbose'] = 1\n",
    "    reference = bss.tools.create_sparse_data(data_settings)\n",
    "\n",
    "# create the noisy data\n",
    "Y = reference['data'] + reference['noise']\n",
    "\n",
    "# evaluation function (will be called at each iteration of the algorithm)\n",
    "criteria_rec = lambda data: bss.tools.evaluation(data, reference)[0]\n",
    "\n",
    "# sparsity parameter recording function (\"\"\")\n",
    "lambda_rec = lambda data: np.max(data['lambda'])"
   ]
  },
  {
   "cell_type": "markdown",
   "metadata": {},
   "source": [
    "### first method for using nGMCA"
   ]
  },
  {
   "cell_type": "code",
   "execution_count": null,
   "metadata": {},
   "outputs": [],
   "source": [
    "alg = bss.algos.Ngmca()\n",
    "\n",
    "parameters = {\n",
    "    'data': Y,\n",
    "    'rank': data_settings['rank'],\n",
    "    'verbose': 1,\n",
    "    'maximum_iteration': 300,\n",
    "    'S_parameters': {'tau_mad': 1},\n",
    "    'recording_functions': {\n",
    "        'lambda': lambda_rec,\n",
    "        'criteria': criteria_rec,\n",
    "    },\n",
    "}\n",
    "# display during algorithm\n",
    "parameters['display_function'] = lambda data: plt.plot(data['factorization'].S.T)\n",
    "parameters['display_time'] = 1\n",
    "\n",
    "# set a particular initialization (for repeatability)\n",
    "np.random.seed(58)\n",
    "\n",
    "# launch the algorithm\n",
    "result = alg.run(parameters)\n",
    "\n",
    "# evaluate the result\n",
    "crit = bss.tools.evaluation(result, reference, True)[0]"
   ]
  },
  {
   "cell_type": "markdown",
   "metadata": {},
   "source": [
    "### second method for using nGMCA"
   ]
  },
  {
   "cell_type": "code",
   "execution_count": null,
   "metadata": {},
   "outputs": [],
   "source": [
    "# updaters are classes which are called for the updates of\n",
    "# A and S. One can choose between different types of updaters\n",
    "alg = bss.algos.Framework()\n",
    "lambda_rec = lambda data: np.max(data['S_updater'].lambdas)\n",
    "parameters_upd = {\n",
    "    'data': Y,\n",
    "    'rank': data_settings['rank'],\n",
    "    'verbose': 1,\n",
    "    'maximum_iteration': 300,\n",
    "    'S_updater': bss.algos.SparseUpdater(tau_mad=1),\n",
    "    'A_updater': bss.algos.SparseUpdater(tau_mad=0),\n",
    "    'recording_functions': {\n",
    "        'lambda': lambda_rec,\n",
    "        'criteria': criteria_rec,\n",
    "    },\n",
    "}\n",
    "parameters_upd['display_function'] = lambda data: plt.plot(data['factorization'].S.T)\n",
    "parameters_upd['display_time'] = 1\n",
    "\n",
    "np.random.seed(58)\n",
    "result_upd = alg.run(parameters_upd)\n",
    "crit = bss.tools.evaluation(result_upd, reference, True)[0]"
   ]
  },
  {
   "cell_type": "markdown",
   "metadata": {},
   "source": [
    "### Displaying the results"
   ]
  },
  {
   "cell_type": "code",
   "execution_count": null,
   "metadata": {},
   "outputs": [],
   "source": [
    "#%% visualization of the evoluation of the SDR_S\n",
    "plt.plot(result['recording']['SDR_S'])\n",
    "plt.plot(result_upd['recording']['SDR_S'])\n",
    "plt.show()\n",
    "\n",
    "#%% visualization of the evoluation of lambda\n",
    "plt.plot(result['recording']['lambda'])\n",
    "plt.plot(result_upd['recording']['lambda'])\n",
    "plt.show()\n",
    "\n",
    "#%% decompostion\n",
    "criteria, decomp = bss.tools.evaluation(result, reference, 1)\n",
    "plt.plot(decomp['interferences'])\n",
    "plt.show()"
   ]
  }
 ],
 "metadata": {
  "kernelspec": {
   "display_name": "pygmcadev",
   "language": "python",
   "name": "pygmcadev"
  },
  "language_info": {
   "codemirror_mode": {
    "name": "ipython",
    "version": 3
   },
   "file_extension": ".py",
   "mimetype": "text/x-python",
   "name": "python",
   "nbconvert_exporter": "python",
   "pygments_lexer": "ipython3",
   "version": "3.9.6"
  }
 },
 "nbformat": 4,
 "nbformat_minor": 4
}
