{
 "cells": [
  {
   "cell_type": "markdown",
   "metadata": {},
   "source": [
    "# Blind source separation with bGMCA\n",
    "### or how to tackle sparse BSS when the number of sources is large"
   ]
  },
  {
   "cell_type": "code",
   "execution_count": null,
   "metadata": {},
   "outputs": [],
   "source": [
    "# Useful packages\n",
    "import matplotlib.pyplot as plt\n",
    "import numpy as np\n",
    "\n",
    "from launch_bGMCA import launch_GMCA\n",
    "\n",
    "%matplotlib inline\n",
    "font = {\n",
    "    'weight': 'bold',\n",
    "    'size': 12,\n",
    "}\n",
    "plt.rcParams[\"figure.figsize\"] = (20, 10)\n",
    "plt.rc('font', **font)"
   ]
  },
  {
   "cell_type": "markdown",
   "metadata": {},
   "source": [
    "### Using the demo code\n",
    "\n",
    "Usage:\n",
    "    launch_GMCA(numExp=1,N_MC=1,sauv=2,init=1,optBlock=0,folderInitSave=0,t_samples=0,ptot=0.1,cd=1,colSize=0,palm=0,SNR=120,optWhite=0,verPos=0,J=0)\n",
    "\n",
    "    Inputs:\n",
    "    n_sources : list of intergers (list containing the number of sources of the experiments)\n",
    "    blocksize : list of intergers (list of the different block sizes to be tested. For a given number of sources n in the n_sources list, valid if the blocksizes are in [1,n])\n",
    "    numExp : int (number of the experiment (used for the seed of the random data generation))\n",
    "    N_MC : int (number of Monte-Carlo simulations)\n",
    "    sauv : int (0 : no saving, 1 : save the results, 2 : save all including data\n",
    "    init : boolean (0: load some already existing X,X0,A0,S0,N data matrices, 1 : creation of new random data)\n",
    "    dataType : int in {1,2,3} (1: Bernouilli Gaussian data, 2: Generalized Gaussian data (approximately sparse), 3: realistic 1H NMR data)\n",
    "    optBlock : int in {1,2,3} (0 : blocks are crated randomly, 1 : creation according to the \"correlation\" of the sources, 2 : according to the angle between the columns of A)\n",
    "    folderInitSave : string (name of the folder use to save or load the data. This folder must contain 2 subfolders 'Data' and 'MatricesAS')\n",
    "    t_samples : int (number of samples for each source)\n",
    "    ptot : float in (0,1) (sparsity of the sources. More sparse for low values:\n",
    "                            if dataType = 1: ptot = number of non-zero coefficients\n",
    "                            if dataType = 2: ptot = parameter of Generalized Gaussian: 1 => Laplacian, 2 = Gaussian\n",
    "                            if dataType = 3: ptot is not used)\n",
    "    cd : int >= 1 (condition number of A)\n",
    "    SNR : float (signal to noise ratio. Do not use int)\n",
    "    verPos : int in {0,1,2,3} (0 : no non-negativity, verPos = 1 : wavelets + non-negativity in the direct domain, verPos = 2 : wavelets without non-negativity, verPos = 3 : non-negativity)\n",
    "    J : int (number of wavelets scales if applicable)\n",
    "\n",
    "    Outputs:\n",
    "    C_hyb : len(blocksize) x len(n_sources) x N_MC array (contains the C_A values for all the blocksizes and different number of sources for each monte carlo experiment)\n",
    "    S_gmca : n x t array (found sources. Relevant only if len(blocksize) = len(n_sources) = N_MC = 1)\n",
    "    A_gmca : m x n array (found mixing matrix. Relevant only if len(blocksize) = len(n_sources) = N_MC = 1)\n"
   ]
  },
  {
   "cell_type": "markdown",
   "metadata": {},
   "source": [
    "## Run Monte-Carlo simulations"
   ]
  },
  {
   "cell_type": "code",
   "execution_count": null,
   "metadata": {},
   "outputs": [],
   "source": [
    "# Simple experience\n",
    "N_MC = 1  # only one Monte Carlo experiment is performed\n",
    "numExp = 2  # used for setting the random seed for the data generation\n",
    "folderInitSave='./'  # folder to write the results. It must contain 2 subfolders « data » and « matricesAS ».\n",
    "optBatch = 0  # correspond to random choices for the blocks\n",
    "ptot = 0.1  # proportion of non-zero coefficients\n",
    "cd = 1  # condition number of the mixing matrix\n",
    "\n",
    "dataType = 1 #The data is created a Bernouilli Gaussian distribution: a proportion of ptot coefficients is taken non-zeros and have a Gaussian amplitude.\n",
    "verPos = 0 #Corresponds to a simple sparsity constraint in the direct domain\n",
    "\n",
    "blocksize = [1,2,3,4,5,7,10,13,16,18,20] # Block sizes to be tested\n",
    "n_sources = [20] #Number of sources. 20 sources is already a quite high number of sources. Take 50+ sources for really large-scale examples.\n",
    "\n",
    "C_gmca, S, A = launch_GMCA(\n",
    "    n_sources=n_sources,\n",
    "    blocksize=blocksize,\n",
    "    numExp=numExp,\n",
    "    N_MC=N_MC,\n",
    "    dataType=dataType,\n",
    "    sauv=0,\n",
    "    optBlock=optBatch,\n",
    "    folderInitSave=folderInitSave,\n",
    "    ptot=ptot,\n",
    "    verPos=verPos,\n",
    "    cd=cd\n",
    ")"
   ]
  },
  {
   "cell_type": "code",
   "execution_count": null,
   "metadata": {},
   "outputs": [],
   "source": []
  }
 ],
 "metadata": {
  "kernelspec": {
   "display_name": "pygmcadev",
   "language": "python",
   "name": "pygmcadev"
  },
  "language_info": {
   "codemirror_mode": {
    "name": "ipython",
    "version": 3
   },
   "file_extension": ".py",
   "mimetype": "text/x-python",
   "name": "python",
   "nbconvert_exporter": "python",
   "pygments_lexer": "ipython3",
   "version": "3.9.6"
  }
 },
 "nbformat": 4,
 "nbformat_minor": 4
}
