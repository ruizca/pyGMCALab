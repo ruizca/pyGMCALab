{
 "cells": [
  {
   "cell_type": "markdown",
   "metadata": {},
   "source": [
    "# Blind source separation with HypGMCA\n",
    "### or how to impose sparsity on both the spectra and the sources"
   ]
  },
  {
   "cell_type": "code",
   "execution_count": null,
   "metadata": {},
   "outputs": [],
   "source": [
    "# Useful packages\n",
    "import astropy.io.fits as pyf\n",
    "import matplotlib.pyplot as plt\n",
    "import numpy as np\n",
    "import pyStarlet as pys\n",
    "from pyGMCA.bss import hypgmca\n",
    "\n",
    "%matplotlib inline\n",
    "font = {\n",
    "    'weight': 'bold',\n",
    "    'size': 12,\n",
    "}\n",
    "plt.rcParams[\"figure.figsize\"] = (20,10)\n",
    "plt.rc('font', **font)"
   ]
  },
  {
   "cell_type": "markdown",
   "metadata": {},
   "source": [
    "## Load simulated data"
   ]
  },
  {
   "cell_type": "code",
   "execution_count": null,
   "metadata": {},
   "outputs": [],
   "source": [
    "S0 = pyf.getdata(\"./data/Sources.fits\").reshape((4, 128*128))\n",
    "S0 = np.dot(np.diag(1./np.linalg.norm(S0, axis=1)), S0)\n",
    "A0 = pyf.getdata(\"./data/Spectra.fits\")\n",
    "A0 = A0[:64, [0, 1]]\n",
    "Xin = np.dot(A0, S0[[0, 1], :])\n",
    "\n",
    "plt.plot(A0)\n",
    "plt.show()"
   ]
  },
  {
   "cell_type": "markdown",
   "metadata": {},
   "source": [
    "## Apply a 2D-1D starlet transform"
   ]
  },
  {
   "cell_type": "code",
   "execution_count": null,
   "metadata": {},
   "outputs": [],
   "source": [
    "# Number of 2D scales\n",
    "J_2D = 3\n",
    "J_1D = 3\n",
    "m = np.shape(A0)[0]\n",
    "N = 128\n",
    "\n",
    "mw = pys.forward(Xin.reshape((m, N, N)), J=J_2D)\n",
    "X = mw[:, :, :, J_2D].reshape(m, N**2)\n",
    "for j in range(J_2D):\n",
    "    X = np.hstack([X, mw[:, :, :, j].reshape(m, N**2)])\n",
    "\n",
    "mw = pys.forward1d(X.T, J=J_1D)\n",
    "X = np.transpose(mw[:, :, J_1D].reshape(-1, m))\n",
    "for j in range(J_1D):\n",
    "    X = np.vstack([X, np.transpose(mw[:, :, j].reshape(-1, m))])\n",
    "    \n",
    "plt.plot(X[0, :])\n",
    "plt.show()"
   ]
  },
  {
   "cell_type": "code",
   "execution_count": null,
   "metadata": {},
   "outputs": [],
   "source": [
    "# Indices for 2D coarse-scale\n",
    "I_CS_2D = np.linspace(N**2, np.shape(X)[1] - 1, np.shape(X)[1] - N**2, dtype='int32')\n",
    "\n",
    "# Indices for 1D coarse-scale\n",
    "I_CS_1D = np.linspace(m, np.shape(X)[0] - 1, np.shape(X)[0] - m, dtype='int32')"
   ]
  },
  {
   "cell_type": "code",
   "execution_count": null,
   "metadata": {},
   "outputs": [],
   "source": [
    "# Number of sources:\n",
    "n = 2\n",
    "Rh = hypgmca.HypGMCA(X, n=n, mints=0, nmax=250, L0=0, UseP=2, Index_1D=I_CS_1D, Index_2D=I_CS_2D)"
   ]
  },
  {
   "cell_type": "code",
   "execution_count": null,
   "metadata": {},
   "outputs": [],
   "source": [
    "# Reconstructed:\n",
    "Se = np.real(Rh['sources'])\n",
    "\n",
    "Srec = 0. * S0[0:2, :]\n",
    "for j in range(J_2D + 1):\n",
    "    Srec += Se[:, j * N**2:(j + 1) * N**2]\n",
    "    \n",
    "piS = np.dot(Srec.T, np.linalg.inv(np.dot(Srec, Srec.T)))\n",
    "Arec = np.dot(Xin, piS)\n",
    "    \n",
    "plt.subplot(121)\n",
    "plt.plot(Arec)\n",
    "\n",
    "plt.subplot(122)\n",
    "plt.imshow(Srec[0, :].reshape(128, 128))\n",
    "\n",
    "plt.show()"
   ]
  }
 ],
 "metadata": {
  "kernelspec": {
   "display_name": "pygmcadev",
   "language": "python",
   "name": "pygmcadev"
  },
  "language_info": {
   "codemirror_mode": {
    "name": "ipython",
    "version": 3
   },
   "file_extension": ".py",
   "mimetype": "text/x-python",
   "name": "python",
   "nbconvert_exporter": "python",
   "pygments_lexer": "ipython3",
   "version": "3.9.6"
  }
 },
 "nbformat": 4,
 "nbformat_minor": 4
}
